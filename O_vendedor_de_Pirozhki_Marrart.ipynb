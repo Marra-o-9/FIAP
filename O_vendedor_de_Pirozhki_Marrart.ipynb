{
  "nbformat": 4,
  "nbformat_minor": 0,
  "metadata": {
    "colab": {
      "provenance": [],
      "include_colab_link": true
    },
    "kernelspec": {
      "name": "python3",
      "display_name": "Python 3"
    },
    "language_info": {
      "name": "python"
    }
  },
  "cells": [
    {
      "cell_type": "markdown",
      "metadata": {
        "id": "view-in-github",
        "colab_type": "text"
      },
      "source": [
        "<a href=\"https://colab.research.google.com/github/Marra-o-9/FIAP/blob/main/O_vendedor_de_Pirozhki_Marrart.ipynb\" target=\"_parent\"><img src=\"https://colab.research.google.com/assets/colab-badge.svg\" alt=\"Open In Colab\"/></a>"
      ]
    },
    {
      "cell_type": "markdown",
      "source": [
        "# CASE: O vendedor de Pirozhki\n",
        "\n",
        "\n",
        "Vladimir Sidorov desistiu de seu trabalho convencional na KGB e decidiu empreender em 2010 no ramo alimentício. Com suas economias abriu um foodtruck no bairro do Ipiranga – SP especializado na venda de Pirozhki, onde seu grande diferencial era trabalhar com ingredientes importados dando uma qualidade extraordinária ao produto. Após o crescimento das vendas, a modalidade delivery foi implementada para auxiliar a empresa. Vladimir era extremamente popular no bairro, todos o conheciam, mas em 2019 se mudou para um ponto melhor e não tivemos mais notícia. Os últimos dados compartilhados das vendas de Vlad foram disponibilizados antes de sua partida.\n"
      ],
      "metadata": {
        "id": "HXZSC_Ob3Zrd"
      }
    },
    {
      "cell_type": "code",
      "source": [
        "\n",
        "Ano\tvendas\n",
        "2010\t723\n",
        "2011\t814\n",
        "2012\t905\n",
        "2014\t1087\n",
        "2017\t1360\n",
        "2018\t1451\n",
        "2019\t1542\n"
      ],
      "metadata": {
        "id": "H6qSt8nv3de1"
      },
      "execution_count": null,
      "outputs": []
    },
    {
      "cell_type": "markdown",
      "source": [
        "\n",
        "\n",
        "1.   Dado o problema acima, qual o melhor algoritmo para descobrir os dados de 2015?\n",
        "2.   Qual coeficiente angular?\n",
        "3.   Considerando uma perspectiva estatística, qual o total de venda em 2020 (Apresentar valores)?\n",
        "4. Considerando uma perspectiva estatística, qual o total de venda em 2021 (Apresentar valores)?\n",
        "5. Desenvolva um código em python que calcule estatisticamente as vendas em qualquer ano desejado\n",
        "6. Considerando sua opinião, qual o total de venda em 2021?\n",
        "7. Considerando sua opinião, qual o total de venda em 2023?\n",
        "\n"
      ],
      "metadata": {
        "id": "jmbpy-k73f90"
      }
    },
    {
      "cell_type": "markdown",
      "source": [
        "*   Nome:  Henrique Marra Barbosa\n",
        "*   RM: 97672\n",
        "*   Nome:  Arthur Hieda Cunha\n",
        "*   RM: 551882"
      ],
      "metadata": {
        "id": "Wi9_DVhq34pT"
      }
    },
    {
      "cell_type": "markdown",
      "source": [
        "1) O melhor algoritmo para descobrir os dados de 2015 é uma ferramenta de machine learning, a regressão linear simples, já que temos dados históricos disponíveis. Esse método pode nos dar uma estimativa relativamente precisa com base nos dados que possuímos."
      ],
      "metadata": {
        "id": "RF5g_W49-tOT"
      }
    },
    {
      "cell_type": "code",
      "source": [
        "# 2)\n",
        "\n",
        "import numpy as np\n",
        "\n",
        "# Arrays montados com a base de dados apresentada\n",
        "anos = np.array([2010, 2011, 2012, 2014, 2017, 2018, 2019])\n",
        "vendas = np.array([723, 814, 905, 1087, 1360, 1451, 1542])\n",
        "\n",
        "# Ajustar uma linha de regressão aos dados\n",
        "coeficiente_angular, coeficiente_linear = np.polyfit(anos, vendas, 1)\n",
        "\n",
        "print(f\"Coeficiente Angular: {coeficiente_angular:.2f}\")"
      ],
      "metadata": {
        "colab": {
          "base_uri": "https://localhost:8080/"
        },
        "id": "80GuSOEV_kFB",
        "outputId": "b2d3bd57-2869-4690-c6a8-221372df9ec1"
      },
      "execution_count": null,
      "outputs": [
        {
          "output_type": "stream",
          "name": "stdout",
          "text": [
            "Coeficiente Angular: 91.00\n"
          ]
        }
      ]
    },
    {
      "cell_type": "code",
      "source": [
        "# 3)\n",
        "\n",
        "# Prever as vendas em 2020 usando a regressão linear\n",
        "ano_2020 = 2020\n",
        "vendas_2020 = coeficiente_angular * ano_2020 + coeficiente_linear\n",
        "\n",
        "print(f\"Previsão de vendas em 2020: {vendas_2020:.2f}\")"
      ],
      "metadata": {
        "colab": {
          "base_uri": "https://localhost:8080/"
        },
        "id": "hGHh5h1_BoSQ",
        "outputId": "b26effba-0f2a-4d34-bdd1-41330591b25b"
      },
      "execution_count": null,
      "outputs": [
        {
          "output_type": "stream",
          "name": "stdout",
          "text": [
            "Previsão de vendas em 2020: 1633.00\n"
          ]
        }
      ]
    },
    {
      "cell_type": "code",
      "source": [
        "# 4)\n",
        "\n",
        "# Prever as vendas em 2021 usando a regressão linear\n",
        "ano_2021 = 2021\n",
        "vendas_2021 = coeficiente_angular * ano_2021 + coeficiente_linear\n",
        "\n",
        "print(f\"Previsão de vendas em 2021: {vendas_2021:.2f}\")"
      ],
      "metadata": {
        "colab": {
          "base_uri": "https://localhost:8080/"
        },
        "id": "OZMAhsikEY7F",
        "outputId": "16bc7b25-df62-43f7-c23c-2ad7fbe85dd0"
      },
      "execution_count": null,
      "outputs": [
        {
          "output_type": "stream",
          "name": "stdout",
          "text": [
            "Previsão de vendas em 2021: 1724.00\n"
          ]
        }
      ]
    },
    {
      "cell_type": "code",
      "source": [
        "# 5)\n",
        "\n",
        "# Programa para calcular as vendas de qualquer ano com base na regressão\n",
        "\n",
        "from sklearn.linear_model import LinearRegression\n",
        "\n",
        "def calcular_vendas_em_ano(anos, vendas, ano_desejado):\n",
        "    modelo = LinearRegression()\n",
        "    modelo.fit(anos.reshape(-1, 1), vendas)\n",
        "    vendas_estimadas = modelo.predict(np.array([[ano_desejado]]))\n",
        "    return vendas_estimadas[0]\n",
        "\n",
        "anodesejado = int(input(\"Digite o ano desejado onde serão calculadas as vendas: \"))\n",
        "vendas_desejadas = calcular_vendas_em_ano(anos, vendas, anodesejado)\n",
        "print(f\"Vendas estimadas em {anodesejado}:\", vendas_desejadas)"
      ],
      "metadata": {
        "colab": {
          "base_uri": "https://localhost:8080/"
        },
        "id": "UjE4Ma9SFqVJ",
        "outputId": "1f47e639-6e6f-429a-f8b5-2a23145d1c6e"
      },
      "execution_count": null,
      "outputs": [
        {
          "output_type": "stream",
          "name": "stdout",
          "text": [
            "Digite o ano desejado onde serão calculadas as vendas: 2030\n",
            "Vendas estimadas em 2030: 2543.0\n"
          ]
        }
      ]
    },
    {
      "cell_type": "markdown",
      "source": [
        "6) O valor estimado para 2021 será calculado com base na regressão linear e depende dos dados anteriores e da suposição de uma tendência linear. Se você quiser calcular esse valor, pode usar o código fornecido anteriormente. Entretanto o código não considera fatores externos, tais como a pandemia e todos seus impactos econômicos que estavam acontecendo na época. Tendo isso em vista, as vendas com certeza seriam impactadas negativamente ao extremo."
      ],
      "metadata": {
        "id": "sWVXPs_rJmS9"
      }
    },
    {
      "cell_type": "markdown",
      "source": [
        "7) O valor estimado para 2023 será uma projeção baseada na tendência linear observada até agora, vale ressaltar que previsões de longo prazo podem ser menos precisas devido a mudanças imprevisíveis nas condições de mercado e negócios, no caso de 2023 o mundo também estava sofrendo com as más proles vindas dos últimos anos por conta da pandemia. Porém, ainda assim, a tendência para as vendas seria positiva, contando com a saída de um período econômico mundial tão caótico."
      ],
      "metadata": {
        "id": "5tNIBLplJuOO"
      }
    }
  ]
}